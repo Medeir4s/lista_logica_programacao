{
  "nbformat": 4,
  "nbformat_minor": 0,
  "metadata": {
    "colab": {
      "provenance": [],
      "authorship_tag": "ABX9TyNLkaW00KsoXtQTQYdFJH89",
      "include_colab_link": true
    },
    "kernelspec": {
      "name": "python3",
      "display_name": "Python 3"
    },
    "language_info": {
      "name": "python"
    }
  },
  "cells": [
    {
      "cell_type": "markdown",
      "metadata": {
        "id": "view-in-github",
        "colab_type": "text"
      },
      "source": [
        "<a href=\"https://colab.research.google.com/github/Medeir4s/lista_logica_programacao/blob/main/Untitled3.ipynb\" target=\"_parent\"><img src=\"https://colab.research.google.com/assets/colab-badge.svg\" alt=\"Open In Colab\"/></a>"
      ]
    },
    {
      "cell_type": "code",
      "execution_count": 3,
      "metadata": {
        "colab": {
          "base_uri": "https://localhost:8080/"
        },
        "id": "uLOyhEK9k4yy",
        "outputId": "87787cd3-ed78-4059-8cb2-9b92f085b980"
      },
      "outputs": [
        {
          "name": "stdout",
          "output_type": "stream",
          "text": [
            "Escolha uma opção:\n",
            "F - Adicionar pessoa\n",
            "A - Atender pessoa\n",
            "S - Sair\n",
            "Opção: F\n",
            "Fila: [1, 2, 3, 4, 5, 6, 7, 8, 9, 10, 11] Tamanho: 11\n",
            "Escolha uma opção:\n",
            "F - Adicionar pessoa\n",
            "A - Atender pessoa\n",
            "S - Sair\n",
            "Opção: A\n",
            "Fila: [2, 3, 4, 5, 6, 7, 8, 9, 10, 11] Tamanho: 10\n",
            "Escolha uma opção:\n",
            "F - Adicionar pessoa\n",
            "A - Atender pessoa\n",
            "S - Sair\n",
            "Opção: F\n",
            "Fila: [2, 3, 4, 5, 6, 7, 8, 9, 10, 11, 11] Tamanho: 11\n",
            "Escolha uma opção:\n",
            "F - Adicionar pessoa\n",
            "A - Atender pessoa\n",
            "S - Sair\n",
            "Opção: S\n"
          ]
        }
      ],
      "source": [
        "#Q.1\n",
        "fila = [1, 2, 3, 4, 5, 6, 7, 8, 9, 10]\n",
        "tamanho_fila = len(fila)\n",
        "\n",
        "def adicionar_pessoa():\n",
        "    global fila\n",
        "    global tamanho_fila\n",
        "\n",
        "    fila.append(tamanho_fila + 1)\n",
        "\n",
        "    tamanho_fila += 1\n",
        "\n",
        "def atender_pessoa():\n",
        "    global fila\n",
        "    global tamanho_fila\n",
        "\n",
        "    fila.pop(0)\n",
        "\n",
        "    tamanho_fila -= 1\n",
        "\n",
        "while True:\n",
        "\n",
        "    print(\"Escolha uma opção:\")\n",
        "    print(\"F - Adicionar pessoa\")\n",
        "    print(\"A - Atender pessoa\")\n",
        "    print(\"S - Sair\")\n",
        "\n",
        "    opcao = input(\"Opção: \")\n",
        "\n",
        "    if opcao == \"F\":\n",
        "        adicionar_pessoa()\n",
        "        print(\"Fila:\", fila, \"Tamanho:\", tamanho_fila)\n",
        "    elif opcao == \"A\":\n",
        "        atender_pessoa()\n",
        "        print(\"Fila:\", fila, \"Tamanho:\", tamanho_fila)\n",
        "    elif opcao == \"S\":\n",
        "        break\n",
        "    else:\n",
        "        print(\"Opção inválida.\")"
      ]
    },
    {
      "cell_type": "code",
      "source": [
        "#Q.2\n",
        "pilha = [1, 2, 3, 4, 5]\n",
        "tamanho_pilha = len(pilha)\n",
        "\n",
        "def empilhar():\n",
        "    global pilha\n",
        "    global tamanho_pilha\n",
        "\n",
        "    pilha.append(tamanho_pilha + 1)\n",
        "\n",
        "    tamanho_pilha += 1\n",
        "\n",
        "def desempilhar():\n",
        "    global pilha\n",
        "    global tamanho_pilha\n",
        "\n",
        "    pilha.pop()\n",
        "\n",
        "    tamanho_pilha -= 1\n",
        "\n",
        "while True:\n",
        "    print(\"Escolha uma opção:\")\n",
        "    print(\"E - Empilhar prato\")\n",
        "    print(\"D - Desempilhar prato\")\n",
        "    print(\"S - Sair\")\n",
        "\n",
        "    opcao = input(\"Opção: \")\n",
        "\n",
        "    if opcao == \"E\":\n",
        "        empilhar()\n",
        "        print(\"Pilha:\", pilha, \"Tamanho:\", tamanho_pilha)\n",
        "    elif opcao == \"D\":\n",
        "        desempilhar()\n",
        "        print(\"Pilha:\", pilha, \"Tamanho:\", tamanho_pilha)\n",
        "    elif opcao == \"S\":\n",
        "        break\n",
        "    else:\n",
        "        print(\"Opção inválida.\")"
      ],
      "metadata": {
        "colab": {
          "base_uri": "https://localhost:8080/"
        },
        "id": "5ElyGL7_ocDG",
        "outputId": "eb55a114-a789-40f2-bf6b-b932fe89dee1"
      },
      "execution_count": 4,
      "outputs": [
        {
          "name": "stdout",
          "output_type": "stream",
          "text": [
            "Escolha uma opção:\n",
            "E - Empilhar prato\n",
            "D - Desempilhar prato\n",
            "S - Sair\n",
            "Opção: E\n",
            "Pilha: [1, 2, 3, 4, 5, 6] Tamanho: 6\n",
            "Escolha uma opção:\n",
            "E - Empilhar prato\n",
            "D - Desempilhar prato\n",
            "S - Sair\n",
            "Opção: D\n",
            "Pilha: [1, 2, 3, 4, 5] Tamanho: 5\n",
            "Escolha uma opção:\n",
            "E - Empilhar prato\n",
            "D - Desempilhar prato\n",
            "S - Sair\n",
            "Opção: S\n"
          ]
        }
      ]
    }
  ]
}