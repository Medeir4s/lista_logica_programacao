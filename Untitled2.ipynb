{
  "nbformat": 4,
  "nbformat_minor": 0,
  "metadata": {
    "colab": {
      "provenance": [],
      "authorship_tag": "ABX9TyPHAhWkLvVv0gBSzxK4Udh9",
      "include_colab_link": true
    },
    "kernelspec": {
      "name": "python3",
      "display_name": "Python 3"
    },
    "language_info": {
      "name": "python"
    }
  },
  "cells": [
    {
      "cell_type": "markdown",
      "metadata": {
        "id": "view-in-github",
        "colab_type": "text"
      },
      "source": [
        "<a href=\"https://colab.research.google.com/github/Medeir4s/lista_logica_programacao/blob/main/Untitled2.ipynb\" target=\"_parent\"><img src=\"https://colab.research.google.com/assets/colab-badge.svg\" alt=\"Open In Colab\"/></a>"
      ]
    },
    {
      "cell_type": "code",
      "source": [
        "#Questão 01 A\n",
        "def maior_menor(a, b, c):\n",
        "  maior = a\n",
        "  menor = a\n",
        "  if b > maior:\n",
        "    maior = b\n",
        "  if c > maior:\n",
        "    maior = c\n",
        "  if b < menor:\n",
        "    menor = b\n",
        "  if c < menor:\n",
        "    menor = c\n",
        "  return maior, menor\n",
        "\n",
        "a, b, c = map(int, input(\"Digite três números: \").split())\n",
        "maior, menor = maior_menor(a, b, c)\n",
        "print(\"MAIOR={} MENOR={}\".format(maior, menor))"
      ],
      "metadata": {
        "colab": {
          "base_uri": "https://localhost:8080/"
        },
        "id": "Lw72EAq1ir4D",
        "outputId": "d0e10f13-2a48-40d1-edc2-ec0d70ed9057"
      },
      "execution_count": null,
      "outputs": [
        {
          "output_type": "stream",
          "name": "stdout",
          "text": [
            "Digite três números: 10 8 2\n",
            "MAIOR=10 MENOR=2\n"
          ]
        }
      ]
    },
    {
      "cell_type": "code",
      "source": [
        "#Questão 01 B\n",
        "def maior_menor(a, b, c):\n",
        "  maior = a\n",
        "  menor = a\n",
        "  if b > maior:\n",
        "    maior = b\n",
        "  if c > maior:\n",
        "    maior = c\n",
        "  if b < menor:\n",
        "    menor = b\n",
        "  if c < menor:\n",
        "    menor = c\n",
        "  return maior, menor\n",
        "\n",
        "a, b, c = map(int, input(\"Digite três números: \").split())\n",
        "maior, menor = maior_menor(a, b, c)\n",
        "print(\"MAIOR={} MENOR={}\".format(maior, menor))"
      ],
      "metadata": {
        "colab": {
          "base_uri": "https://localhost:8080/"
        },
        "id": "3ZT9nLKKMXcO",
        "outputId": "21b150fd-6fd9-4fd7-9fa6-e4ac02939708"
      },
      "execution_count": null,
      "outputs": [
        {
          "output_type": "stream",
          "name": "stdout",
          "text": [
            "Digite três números: -10 8 4\n",
            "MAIOR=8 MENOR=-10\n"
          ]
        }
      ]
    },
    {
      "cell_type": "code",
      "source": [
        "#Questão 02\n",
        "salario = float(input(\"Digite o salário do funcionário: \"))\n",
        "\n",
        "if salario > 1250:\n",
        "  aumento = salario * 0.1\n",
        "else:\n",
        "  aumento = salario * 0.15\n",
        "\n",
        "novo_salario = salario + aumento\n",
        "\n",
        "print(\"O valor do aumento é de R$ {:.2f}\".format(aumento))\n",
        "print(\"O novo salário é de R$ {:.2f}\".format(novo_salario))"
      ],
      "metadata": {
        "colab": {
          "base_uri": "https://localhost:8080/"
        },
        "id": "WsieL2-LmdJW",
        "outputId": "35201435-e7fc-43b9-f9b4-f04b04d192af"
      },
      "execution_count": null,
      "outputs": [
        {
          "output_type": "stream",
          "name": "stdout",
          "text": [
            "Digite o salário do funcionário: 1250\n",
            "O valor do aumento é de R$ 187.50\n",
            "O novo salário é de R$ 1437.50\n"
          ]
        }
      ]
    },
    {
      "cell_type": "code",
      "source": [
        "#Questão 03\n",
        "fa"
      ],
      "metadata": {
        "id": "cpGMWsJ3NQPc"
      },
      "execution_count": null,
      "outputs": []
    },
    {
      "cell_type": "code",
      "source": [
        "#Questão 04\n",
        "distancia = float(input(\"Digite a distância da viagem em Km: \"))\n",
        "\n",
        "if distancia <= 200:\n",
        "  preco = distancia * 0.50\n",
        "else:\n",
        "  preco = distancia * 0.45\n",
        "\n",
        "print(\"O preço da passagem é de R$ {:.2f}\".format(preco))"
      ],
      "metadata": {
        "colab": {
          "base_uri": "https://localhost:8080/"
        },
        "id": "Jyo577AVp0qQ",
        "outputId": "36cdf3ec-de8c-4459-f0c7-5297a7cf1594"
      },
      "execution_count": null,
      "outputs": [
        {
          "output_type": "stream",
          "name": "stdout",
          "text": [
            "Digite a distância da viagem em Km: 12\n",
            "O preço da passagem é de R$ 6.00\n"
          ]
        }
      ]
    },
    {
      "cell_type": "code",
      "source": [
        "#Questão 05\n",
        "meses = [\"Janeiro\", \"Fevereiro\", \"Março\", \"Abril\", \"Maio\", \"Junho\", \"Julho\", \"Agosto\", \"Setembro\", \"Outubro\", \"Novembro\", \"Dezembro\"]\n",
        "\n",
        "mes = int(input(\"Digite um número de 1 a 12: \"))\n",
        "\n",
        "mes_extenso = meses[mes - 1]\n",
        "\n",
        "print(\"O mês correspondente é:\", mes_extenso)"
      ],
      "metadata": {
        "colab": {
          "base_uri": "https://localhost:8080/"
        },
        "id": "yDj7KqOgquIg",
        "outputId": "ff229fe9-d7ef-4c64-d8df-a258d2f71879"
      },
      "execution_count": null,
      "outputs": [
        {
          "output_type": "stream",
          "name": "stdout",
          "text": [
            "Digite um número de 1 a 12: 1\n",
            "O mês correspondente é: Janeiro\n"
          ]
        }
      ]
    },
    {
      "cell_type": "code",
      "source": [
        "#Questão 06\n",
        "def tipo_triangulo(a, b, c):\n",
        "    if a >= b + c or b >= a + c or c >= a + b:\n",
        "        return \"NAO FORMA TRIANGULO\"\n",
        "\n",
        "    if a == b == c:\n",
        "        return \"TRIANGULO EQUILATERO\"\n",
        "\n",
        "    if a == b or a == c or b == c:\n",
        "        return \"TRIANGULO ISOSCELES\"\n",
        "\n",
        "    return \"TRIANGULO ACUTANGULO\" if a ** 2 < b ** 2 + c ** 2 else \"TRIANGULO RETANGULO\" if a ** 2 == b ** 2 + c ** 2 else \"TRIANGULO OBTUSANGULO\"\n",
        "\n",
        "\n",
        "def main():\n",
        "    a = float(input(\"Digite o valor de A: \"))\n",
        "    b = float(input(\"Digite o valor de B: \"))\n",
        "    c = float(input(\"Digite o valor de C: \"))\n",
        "\n",
        "    print(tipo_triangulo(a, b, c))\n",
        "\n",
        "\n",
        "if __name__ == \"__main__\":\n",
        "    main()"
      ],
      "metadata": {
        "colab": {
          "base_uri": "https://localhost:8080/"
        },
        "id": "gOz1U-vbN80X",
        "outputId": "264241a2-2913-4556-d4df-5579c0d8263a"
      },
      "execution_count": null,
      "outputs": [
        {
          "output_type": "stream",
          "name": "stdout",
          "text": [
            "Digite o valor de A: 7\n",
            "Digite o valor de B: 5\n",
            "Digite o valor de C: 7\n",
            "TRIANGULO ISOSCELES\n"
          ]
        }
      ]
    },
    {
      "cell_type": "markdown",
      "source": [
        "Não consegui fazer totalmente, e tive o auxilio de IA."
      ],
      "metadata": {
        "id": "Kxx0CVA0OuaM"
      }
    },
    {
      "cell_type": "code",
      "source": [
        "#Questão 06 b\n",
        "def tipo_triangulo(a, b, c):\n",
        "    if a >= b + c or b >= a + c or c >= a + b:\n",
        "        return \"NAO FORMA TRIANGULO\"\n",
        "\n",
        "    if a == b == c:\n",
        "        return \"TRIANGULO EQUILATERO\"\n",
        "\n",
        "    if a == b or a == c or b == c:\n",
        "        return \"TRIANGULO ISOSCELES\"\n",
        "\n",
        "    return \"TRIANGULO ACUTANGULO\" if a ** 2 < b ** 2 + c ** 2 else \"TRIANGULO RETANGULO\" if a ** 2 == b ** 2 + c ** 2 else \"TRIANGULO OBTUSANGULO\"\n",
        "\n",
        "\n",
        "def main():\n",
        "    a = float(input(\"Digite o valor de A: \"))\n",
        "    b = float(input(\"Digite o valor de B: \"))\n",
        "    c = float(input(\"Digite o valor de C: \"))\n",
        "\n",
        "    print(tipo_triangulo(a, b, c))\n",
        "\n",
        "\n",
        "if __name__ == \"__main__\":\n",
        "    main()"
      ],
      "metadata": {
        "colab": {
          "base_uri": "https://localhost:8080/"
        },
        "id": "9sMmR-HxPl1a",
        "outputId": "421be275-d76e-4512-90c2-10f5b9f5b321"
      },
      "execution_count": null,
      "outputs": [
        {
          "output_type": "stream",
          "name": "stdout",
          "text": [
            "Digite o valor de A: 6\n",
            "Digite o valor de B: 6\n",
            "Digite o valor de C: 10\n",
            "TRIANGULO ISOSCELES\n"
          ]
        }
      ]
    },
    {
      "cell_type": "code",
      "source": [
        "#Questão 06 C6\n",
        "def tipo_triangulo(a, b, c):\n",
        "    if a >= b + c or b >= a + c or c >= a + b:\n",
        "        return \"NAO FORMA TRIANGULO\"\n",
        "\n",
        "    if a == b == c:\n",
        "        return \"TRIANGULO EQUILATERO\"\n",
        "\n",
        "    if a == b or a == c or b == c:\n",
        "        return \"TRIANGULO ISOSCELES\"\n",
        "\n",
        "    return \"TRIANGULO ACUTANGULO\" if a ** 2 < b ** 2 + c ** 2 else \"TRIANGULO RETANGULO\" if a ** 2 == b ** 2 + c ** 2 else \"TRIANGULO OBTUSANGULO\"\n",
        "\n",
        "\n",
        "def main():\n",
        "    a = float(input(\"Digite o valor de A: \"))\n",
        "    b = float(input(\"Digite o valor de B: \"))\n",
        "    c = float(input(\"Digite o valor de C: \"))\n",
        "\n",
        "    print(tipo_triangulo(a, b, c))\n",
        "\n",
        "\n",
        "if __name__ == \"__main__\":\n",
        "    main()"
      ],
      "metadata": {
        "colab": {
          "base_uri": "https://localhost:8080/"
        },
        "id": "qylXZAI4PxfO",
        "outputId": "0d98b655-1280-4b8a-98c6-bb7a6a54ece0"
      },
      "execution_count": null,
      "outputs": [
        {
          "output_type": "stream",
          "name": "stdout",
          "text": [
            "Digite o valor de A: 6\n",
            "Digite o valor de B: 6\n",
            "Digite o valor de C: 6\n",
            "TRIANGULO EQUILATERO\n"
          ]
        }
      ]
    },
    {
      "cell_type": "code",
      "source": [
        "#Questão 06 D\n",
        "def tipo_triangulo(a, b, c):\n",
        "    if a >= b + c or b >= a + c or c >= a + b:\n",
        "        return \"NAO FORMA TRIANGULO\"\n",
        "\n",
        "    if a == b == c:\n",
        "        return \"TRIANGULO EQUILATERO\"\n",
        "\n",
        "    if a == b or a == c or b == c:\n",
        "        return \"TRIANGULO ISOSCELES\"\n",
        "\n",
        "    return \"TRIANGULO ACUTANGULO\" if a ** 2 < b ** 2 + c ** 2 else \"TRIANGULO RETANGULO\" if a ** 2 == b ** 2 + c ** 2 else \"TRIANGULO OBTUSANGULO\"\n",
        "\n",
        "\n",
        "def main():\n",
        "    a = float(input(\"Digite o valor de A: \"))\n",
        "    b = float(input(\"Digite o valor de B: \"))\n",
        "    c = float(input(\"Digite o valor de C: \"))\n",
        "\n",
        "    print(tipo_triangulo(a, b, c))\n",
        "\n",
        "\n",
        "if __name__ == \"__main__\":\n",
        "    main()"
      ],
      "metadata": {
        "colab": {
          "base_uri": "https://localhost:8080/"
        },
        "id": "ybIsSlKfP5Ar",
        "outputId": "322fa1dd-5c78-4e14-ae2a-06d106e841ba"
      },
      "execution_count": null,
      "outputs": [
        {
          "output_type": "stream",
          "name": "stdout",
          "text": [
            "Digite o valor de A: 5\n",
            "Digite o valor de B: 7\n",
            "Digite o valor de C: 2\n",
            "NAO FORMA TRIANGULO\n"
          ]
        }
      ]
    },
    {
      "cell_type": "code",
      "source": [
        "#Questão 06 E\n",
        "def tipo_triangulo(a, b, c):\n",
        "    if a >= b + c or b >= a + c or c >= a + b:\n",
        "        return \"NAO FORMA TRIANGULO\"\n",
        "\n",
        "    if a == b == c:\n",
        "        return \"TRIANGULO EQUILATERO\"\n",
        "\n",
        "    if a == b or a == c or b == c:\n",
        "        return \"TRIANGULO ISOSCELES\"\n",
        "\n",
        "    return \"TRIANGULO ACUTANGULO\" if a ** 2 < b ** 2 + c ** 2 else \"TRIANGULO RETANGULO\" if a ** 2 == b ** 2 + c ** 2 else \"TRIANGULO OBTUSANGULO\"\n",
        "\n",
        "\n",
        "def main():\n",
        "    a = float(input(\"Digite o valor de A: \"))\n",
        "    b = float(input(\"Digite o valor de B: \"))\n",
        "    c = float(input(\"Digite o valor de C: \"))\n",
        "\n",
        "    print(tipo_triangulo(a, b, c))\n",
        "\n",
        "\n",
        "if __name__ == \"__main__\":\n",
        "    main()"
      ],
      "metadata": {
        "colab": {
          "base_uri": "https://localhost:8080/"
        },
        "id": "Bxw76rG5QAwT",
        "outputId": "58ec856c-694d-4165-e524-8b3e6f3d263f"
      },
      "execution_count": null,
      "outputs": [
        {
          "output_type": "stream",
          "name": "stdout",
          "text": [
            "Digite o valor de A: 6\n",
            "Digite o valor de B: 8\n",
            "Digite o valor de C: 10\n",
            "TRIANGULO ACUTANGULO\n"
          ]
        }
      ]
    },
    {
      "cell_type": "code",
      "source": [
        "#Questão 07\n",
        "def valores_aceitos(a, b, c, d):\n",
        "    if b > c and d > a and c + d > a + b and c >= 0 and d >= 0 and a % 2 == 0:\n",
        "        return True\n",
        "    else:\n",
        "        return False\n",
        "\n",
        "\n",
        "def main():\n",
        "    a = int(input(\"Digite o valor de A: \"))\n",
        "    b = int(input(\"Digite o valor de B: \"))\n",
        "    c = int(input(\"Digite o valor de C: \"))\n",
        "    d = int(input(\"Digite o valor de D: \"))\n",
        "\n",
        "    print(\"Valores aceitos\" if valores_aceitos(a, b, c, d) else \"Valores não aceitos\")\n",
        "\n",
        "\n",
        "if __name__ == \"__main__\":\n",
        "    main()"
      ],
      "metadata": {
        "colab": {
          "base_uri": "https://localhost:8080/"
        },
        "id": "DqP2ej_TQKpe",
        "outputId": "22c31e07-7746-4c7c-cb23-03a74e180347"
      },
      "execution_count": null,
      "outputs": [
        {
          "output_type": "stream",
          "name": "stdout",
          "text": [
            "Digite o valor de A: 5\n",
            "Digite o valor de B: 6\n",
            "Digite o valor de C: 7\n",
            "Digite o valor de D: 8\n",
            "Valores não aceitos\n"
          ]
        }
      ]
    },
    {
      "cell_type": "code",
      "source": [
        "#Questão 07 B\n",
        "def valores_aceitos(a, b, c, d):\n",
        "    if b > c and d > a and c + d > a + b and c >= 0 and d >= 0 and a % 2 == 0:\n",
        "        return True\n",
        "    else:\n",
        "        return False\n",
        "\n",
        "\n",
        "def main():\n",
        "    a = int(input(\"Digite o valor de A: \"))\n",
        "    b = int(input(\"Digite o valor de B: \"))\n",
        "    c = int(input(\"Digite o valor de C: \"))\n",
        "    d = int(input(\"Digite o valor de D: \"))\n",
        "\n",
        "    print(\"Valores aceitos\" if valores_aceitos(a, b, c, d) else \"Valores não aceitos\")\n",
        "\n",
        "\n",
        "if __name__ == \"__main__\":\n",
        "    main()"
      ],
      "metadata": {
        "colab": {
          "base_uri": "https://localhost:8080/"
        },
        "id": "XLjFiFJVQYIQ",
        "outputId": "9c51db2f-b7a1-4f7e-eabb-0550ae9964ce"
      },
      "execution_count": null,
      "outputs": [
        {
          "output_type": "stream",
          "name": "stdout",
          "text": [
            "Digite o valor de A: 2\n",
            "Digite o valor de B: 3\n",
            "Digite o valor de C: 2\n",
            "Digite o valor de D: 6\n",
            "Valores aceitos\n"
          ]
        }
      ]
    },
    {
      "cell_type": "code",
      "source": [
        "#Questão 09\n",
        "#A: O módulo  random serve para gera números aleatorios\n",
        "#B\n",
        "import random\n",
        "opcao_computador = random.randint(0, 2)\n",
        "print(opcao_computador)\n",
        "#C\n",
        "import random\n",
        "opcao_computador = random.randint(0, 2)\n",
        "if opcao_computador == 0:\n",
        "  opcao_computador = \"pedra\"\n",
        "elif opcao_computador == 1:\n",
        "  opcao_computador = \"papel\"\n",
        "else:\n",
        "  opcao_computador = \"tesoura\"\n",
        "  #D\n",
        "opcao_jogador = int(input(\"Escolha sua opção: (0) pedra, (1) papel ou (2) tesoura: \"))\n",
        "#E\n",
        "import random\n",
        "\n",
        "opcao_computador = random.randint(0, 2)\n",
        "\n",
        "opcao_jogador = int(input(\"Escolha sua opção: (0) pedra, (1) papel ou (2) tesoura: \"))\n",
        "\n",
        "if (opcao_computador == 0 and opcao_jogador == 2) or \\\n",
        "    (opcao_computador == 1 and opcao_jogador == 0) or \\\n",
        "    (opcao_computador == 2 and opcao_jogador == 1):\n",
        "  print(\"Jogador venceu!\")\n",
        "  #F\n",
        "  import random\n",
        "\n",
        "opcao_computador = random.randint(0, 2)\n",
        "\n",
        "opcao_jogador = int(input(\"Escolha sua opção: (0) pedra, (1) papel ou (2) tesoura: \"))\n",
        "\n",
        "if (opcao_computador == 0 and opcao_jogador == 2) or \\\n",
        "    (opcao_computador == 1 and opcao_jogador == 0) or \\\n",
        "    (opcao_computador == 2 and opcao_jogador == 1):\n",
        "  print(\"Jogador venceu!\")\n",
        "else:\n",
        "  print(\"Computador venceu!\")\n",
        "  #G\n",
        "  import random\n",
        "\n",
        "opcao_computador = random.randint(0, 2)\n",
        "\n",
        "opcao_jogador = int(input(\"Escolha sua opção: (0) pedra, (1) papel ou (2) tesoura: \"))\n",
        "\n",
        "if opcao_computador == opcao_jogador:\n",
        "  print(\"Empate!\")\n",
        "else:\n",
        "  if (opcao_computador == 0 and opcao_jogador == 2) or \\\n",
        "    (opcao_computador == 1 and opcao_jogador == 0) or \\\n",
        "    (opcao_computador == 2 and opcao_jogador == 1):\n",
        "    print(\"Jogador venceu!\")\n",
        "  else:\n",
        "    print(\"Computador venceu!\")\n",
        "#H\n",
        "import random\n",
        "\n",
        "def adivinhacao():\n",
        "    palpite = 0\n",
        "    numero_secreto = random.randint(1, 100)\n",
        "\n",
        "    while palpite != numero_secreto:\n",
        "        palpite = int(input(\"Digite seu palpite: \"))\n",
        "\n",
        "        if palpite > numero_secreto:\n",
        "            print(\"Tente um número menor\")\n",
        "        elif palpite < numero_secreto:\n",
        "            print(\"Tente um número maior\")\n",
        "\n",
        "    if palpite == numero_secreto:\n",
        "        print(\"Parabéns!! Você acertou o {}!\".format(numero_secreto))\n",
        "\n",
        "        continuar = input(\"Deseja continuar jogando? (0 para sair, qualquer outra tecla para continuar): \")\n",
        "\n",
        "        if continuar == \"0\":\n",
        "            print(\"Obrigado por jogar!\")\n",
        "        else:\n",
        "            adivinhacao()\n",
        "\n"
      ],
      "metadata": {
        "id": "2rMz8m6ZSinj"
      },
      "execution_count": null,
      "outputs": []
    },
    {
      "cell_type": "code",
      "source": [
        "#Questão 10\n",
        "#A: O módulo de random fornece um conjunto de números aleatorios, usando as funções especificas do random(radint,uniform,choice,shuffle)\n",
        "#B\n",
        "import random\n",
        "numero_secreto = random.randint(1, 100)\n",
        "print(numero_secreto)\n",
        "#C\n",
        "palpite = 0\n",
        "#D\n",
        "palpite = 0\n",
        "while palpite != numero_secreto:\n",
        "    palpite = int(input(\"Digite seu palpite: \"))\n",
        "#E\n",
        "palpite = 0\n",
        "numero_secreto = 10\n",
        "\n",
        "while palpite != numero_secreto:\n",
        "    palpite = int(input(\"Digite seu palpite: \"))\n",
        "\n",
        "    if palpite > numero_secreto:\n",
        "        print(\"Tente um número menor\")\n",
        "    elif palpite < numero_secreto:\n",
        "        print(\"Tente um número maior\")\n",
        "#F\n",
        "alpite = 0\n",
        "numero_secreto = 10\n",
        "\n",
        "while palpite != numero_secreto:\n",
        "    palpite = int(input(\"Digite seu palpite: \"))\n",
        "\n",
        "    if palpite > numero_secreto:\n",
        "        print(\"Tente um número menor\")\n",
        "    elif palpite < numero_secreto:\n",
        "        print(\"Tente um número maior\")\n",
        "\n",
        "if palpite == numero_secreto:\n",
        "    print(\"Parabéns!! Você acertou o {}!\".format(numero_secreto))\n",
        "#G\n",
        "palpite = 0\n",
        "numero_secreto = int(input(\"Digite um número secreto entre 1 e 100: \"))\n",
        "\n",
        "while palpite != numero_secreto:\n",
        "    palpite = int(input(\"Digite seu palpite: \"))\n",
        "\n",
        "    if palpite > numero_secreto:\n",
        "        print(\"Tente um número menor\")\n",
        "    elif palpite < numero_secreto:\n",
        "        print(\"Tente um número maior\")\n",
        "\n",
        "if palpite == numero_secreto:\n",
        "    print(\"Parabéns!! Você acertou o {}!\".format(numero_secreto))\n",
        "\n",
        "    continuar = input(\"Deseja continuar jogando? (0 para sair, qualquer outra tecla para continuar): \")\n",
        "\n",
        "    if continuar == \"0\":\n",
        "        print(\"Obrigado por jogar!\")\n",
        "    else:\n",
        "        numero_secreto = int(input(\"Digite um novo número secreto entre 1 e 100: \"))\n",
        "        palpite = 0"
      ],
      "metadata": {
        "id": "reinYv_xYcXs"
      },
      "execution_count": null,
      "outputs": []
    }
  ]
}