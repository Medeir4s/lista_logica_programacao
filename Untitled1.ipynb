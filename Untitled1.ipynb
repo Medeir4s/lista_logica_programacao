{
  "nbformat": 4,
  "nbformat_minor": 0,
  "metadata": {
    "colab": {
      "provenance": [],
      "include_colab_link": true
    },
    "kernelspec": {
      "name": "python3",
      "display_name": "Python 3"
    },
    "language_info": {
      "name": "python"
    }
  },
  "cells": [
    {
      "cell_type": "markdown",
      "metadata": {
        "id": "view-in-github",
        "colab_type": "text"
      },
      "source": [
        "<a href=\"https://colab.research.google.com/github/Medeir4s/lista_logica_programacao/blob/main/Untitled1.ipynb\" target=\"_parent\"><img src=\"https://colab.research.google.com/assets/colab-badge.svg\" alt=\"Open In Colab\"/></a>"
      ]
    },
    {
      "cell_type": "code",
      "execution_count": null,
      "metadata": {
        "colab": {
          "base_uri": "https://localhost:8080/"
        },
        "id": "1GauZIn11Qkq",
        "outputId": "947d2024-8f9d-49fc-926a-11e742fea3d4"
      },
      "outputs": [
        {
          "output_type": "stream",
          "name": "stdout",
          "text": [
            "Hello World\n"
          ]
        }
      ],
      "source": [
        "#q14.A\n",
        "print(\"Hello World\")\n",
        "#O comando print escreve tudo que esta entre aspas duplas."
      ]
    },
    {
      "cell_type": "code",
      "source": [
        "#q14.B\n",
        "print(\"Hello, World\")\n",
        "#O comando print escreveu tudo igual entre aspas dupla."
      ],
      "metadata": {
        "colab": {
          "base_uri": "https://localhost:8080/"
        },
        "id": "Zbagfn8E2Gr9",
        "outputId": "51a11962-007a-4bf3-e909-006254349ab3"
      },
      "execution_count": null,
      "outputs": [
        {
          "output_type": "stream",
          "name": "stdout",
          "text": [
            "Hello, World\n"
          ]
        }
      ]
    },
    {
      "cell_type": "code",
      "source": [
        "#q14.C\n",
        "print(\"Hello!\\n My name is Jhon\")\n",
        "#o comando \\n faz com que crie, ou seja cria um parágrafo."
      ],
      "metadata": {
        "id": "oUKjSHJr25T-",
        "colab": {
          "base_uri": "https://localhost:8080/"
        },
        "outputId": "e040045b-91eb-4e0d-dc0e-975fdc6d9f67"
      },
      "execution_count": null,
      "outputs": [
        {
          "output_type": "stream",
          "name": "stdout",
          "text": [
            "Hello!\n",
            " My name is Jhon\n"
          ]
        }
      ]
    },
    {
      "cell_type": "code",
      "source": [
        "#q14.D\n",
        "print(\"Hello!\\t My name is Jhon\")\n",
        "#O comando \\t faz com que crie um espaço maior."
      ],
      "metadata": {
        "colab": {
          "base_uri": "https://localhost:8080/"
        },
        "id": "yeOZDQa_6CZ2",
        "outputId": "cd9c8123-c236-4ddb-a008-e7288d85018b"
      },
      "execution_count": null,
      "outputs": [
        {
          "output_type": "stream",
          "name": "stdout",
          "text": [
            "Hello!\t My name is Jhon\n"
          ]
        }
      ]
    },
    {
      "cell_type": "code",
      "source": [
        "#q14.E\n",
        "print(\"Um dia, ela disse:\")\n",
        "print(\"Estarei aqui por você.\")\n",
        "#O computador ele escreve os dados por ordem."
      ],
      "metadata": {
        "colab": {
          "base_uri": "https://localhost:8080/"
        },
        "id": "MZBTKnTJsvNq",
        "outputId": "c1fa6a63-a0b6-4628-d802-b5fb23206493"
      },
      "execution_count": null,
      "outputs": [
        {
          "output_type": "stream",
          "name": "stdout",
          "text": [
            "Um dia, ela disse:\n",
            "Estarei aqui por você.\n"
          ]
        }
      ]
    },
    {
      "cell_type": "code",
      "source": [
        "#q15\n",
        "print(\"\"\"Meu Nome e Guilherme\n",
        "Tenho 15 Anos.\n",
        "Cresci e nasci em Natal-RN\"\"\")"
      ],
      "metadata": {
        "colab": {
          "base_uri": "https://localhost:8080/"
        },
        "id": "N8H19afztLVs",
        "outputId": "eeef767d-ac65-45c2-d050-94185e4d9b5a"
      },
      "execution_count": null,
      "outputs": [
        {
          "output_type": "stream",
          "name": "stdout",
          "text": [
            "Meu Nome e Guilherme \n",
            "Tenho 15 Anos.\n",
            "Cresci e nasci em Natal-RN\n"
          ]
        }
      ]
    },
    {
      "cell_type": "code",
      "source": [
        "#q16.A\n",
        "macas = 5\n",
        "laranjas = 10\n",
        "frutas = macas+laranjas\n",
        "print(frutas)"
      ],
      "metadata": {
        "colab": {
          "base_uri": "https://localhost:8080/"
        },
        "id": "mSbJ2HTiuKXK",
        "outputId": "641c8bd4-4336-4a2e-95b0-b09d4d40800b"
      },
      "execution_count": null,
      "outputs": [
        {
          "output_type": "stream",
          "name": "stdout",
          "text": [
            "15\n"
          ]
        }
      ]
    },
    {
      "cell_type": "code",
      "source": [
        "#q16.B\n",
        "macas = 20\n",
        "larnajas = 10\n",
        "frutas = macas+laranjas\n",
        "print(frutas)"
      ],
      "metadata": {
        "colab": {
          "base_uri": "https://localhost:8080/"
        },
        "id": "bhTkoTQYwzBy",
        "outputId": "0f760802-76b7-432d-b8bc-d9a2022cdf74"
      },
      "execution_count": null,
      "outputs": [
        {
          "output_type": "stream",
          "name": "stdout",
          "text": [
            "30\n"
          ]
        }
      ]
    },
    {
      "cell_type": "code",
      "source": [
        "#q17.\n",
        "nome =input(\"Guilherme\")\n",
        "idade =input(\"15 anos\")\n",
        "print =(\"oi\"),(\"qual o seu nome?\"),nome,(\"qual a sua idade\"),idade\n"
      ],
      "metadata": {
        "colab": {
          "base_uri": "https://localhost:8080/"
        },
        "id": "DCt6hKxtxd3I",
        "outputId": "d00025e6-bdf9-43e5-cdb7-f8998957cf83"
      },
      "execution_count": null,
      "outputs": [
        {
          "name": "stdout",
          "output_type": "stream",
          "text": [
            "Guilherme\n",
            "15 anos\n"
          ]
        }
      ]
    },
    {
      "cell_type": "code",
      "source": [
        "#q18.\n",
        "numero_01 =input(\"numero x\")\n",
        "numero_02 =input(\"numero y\")\n",
        "print =(\"numero_01\"),(\"numero_02\")"
      ],
      "metadata": {
        "colab": {
          "base_uri": "https://localhost:8080/"
        },
        "id": "WzA8KReD41CS",
        "outputId": "86b83399-79ed-483e-ebb6-e09bba68790b"
      },
      "execution_count": null,
      "outputs": [
        {
          "name": "stdout",
          "output_type": "stream",
          "text": [
            "numero x\n",
            "numero y\n"
          ]
        }
      ]
    },
    {
      "cell_type": "code",
      "source": [
        "#q19 erro\n",
        "opcoes = [\"Somar\", \"Multiplicar\", \"Maior\", \"Novos números\", \"Sair\"]\n",
        "for i, opcao in enumerate(opcoes):\n",
        "    print(f\"{i + 1} - {opcao}\")\n",
        "    escolha = input(\"Escolha uma opção: \")\n",
        "print(f\"Você escolheu a opção {opcoes[int(escolha) - 1]}.\")"
      ],
      "metadata": {
        "id": "5UEVRA_uta65"
      },
      "execution_count": null,
      "outputs": []
    },
    {
      "cell_type": "code",
      "source": [
        "#q20.erro\n",
        "x =(2.7)\n",
        "type(float)\n",
        "x = (27)\n",
        "type(int)\n",
        "x = (False)\n",
        "type(bool)\n",
        "x = (\"False\")\n",
        "type(str)\n",
        "x = (\"0.0\")\n",
        "type(float)\n",
        "x = (-21)\n",
        "type (int)\n",
        "x =(99999999)\n",
        "type (int)\n",
        "x = (\"none\")\n",
        "type(None)\n",
        "x = (none)\n",
        "type(None)"
      ],
      "metadata": {
        "id": "lVyiywqGuBmN"
      },
      "execution_count": null,
      "outputs": []
    },
    {
      "cell_type": "code",
      "source": [
        "#q21.A\n",
        "print(\"True para str:\", str(True))\n",
        "#q21.B\n",
        "print(\"3 para float:\", float(3))\n",
        "#q21.C\n",
        "print(\"3.8 para str:\", str(3.8))\n",
        "#q21.D\n",
        "#print(\"0.5 para int:\", int(0.5))\n",
        "#q21.E\n",
        "print(\"'4' para int:\", int(\"4\"))"
      ],
      "metadata": {
        "colab": {
          "base_uri": "https://localhost:8080/"
        },
        "id": "JLEXDHm2vb2s",
        "outputId": "2163cad0-1007-47da-cf25-19788c22a1de"
      },
      "execution_count": null,
      "outputs": [
        {
          "output_type": "stream",
          "name": "stdout",
          "text": [
            "True para str: True\n",
            "3 para float: 3.0\n",
            "3.8 para str: 3.8\n",
            "'4' para int: 4\n"
          ]
        }
      ]
    },
    {
      "cell_type": "code",
      "source": [
        "#q22.A\n",
        "x =(2.25-1)\n",
        "print =(round)(int(x))\n",
        "print\n",
        "#q22.B\n",
        "x =(3.0*3)\n",
        "print =(round)(float(x))\n",
        "print\n",
        "#q22.C\n",
        "x =(2*4)\n",
        "print =(round)(int(x))\n",
        "print\n",
        "#q22.D\n",
        "x =(2.0**4)\n",
        "print =(round)(int(x))\n",
        "print\n",
        "#q22.E\n",
        "x =(2./2.0)\n",
        "print =(round)(int(x))\n",
        "print\n",
        "#q22.F\n",
        "x =(6/4)\n",
        "print =(round)(int(x))\n",
        "print\n",
        "#q22.G\n",
        "x =(6%4)\n",
        "print =(round)(int(x))\n",
        "print\n",
        "#q22.H\n",
        "x =(4%2)\n",
        "print =(round)(int(x))\n",
        "print\n",
        "#q22.I\n",
        "x =(0.58)\n",
        "print =(round)(int(x))\n",
        "print"
      ],
      "metadata": {
        "colab": {
          "base_uri": "https://localhost:8080/"
        },
        "id": "lqjaanzoxGyf",
        "outputId": "3fb60ba3-298c-42a1-d5cd-3c5ae1445bdf"
      },
      "execution_count": null,
      "outputs": [
        {
          "output_type": "execute_result",
          "data": {
            "text/plain": [
              "0"
            ]
          },
          "metadata": {},
          "execution_count": 3
        }
      ]
    },
    {
      "cell_type": "code",
      "source": [
        "#q23.A\n",
        "a =(10)\n",
        "b =(9)\n",
        "print =(int(a+b))\n",
        "print\n",
        "#q23.B\n",
        "x =(-10)\n",
        "y =(4)\n",
        "print =(int(x+y))\n",
        "print"
      ],
      "metadata": {
        "colab": {
          "base_uri": "https://localhost:8080/"
        },
        "id": "VvYt17rK6d1L",
        "outputId": "2743d2ef-2681-4e55-c480-5a8d9eab4995"
      },
      "execution_count": null,
      "outputs": [
        {
          "output_type": "execute_result",
          "data": {
            "text/plain": [
              "-6"
            ]
          },
          "metadata": {},
          "execution_count": 2
        }
      ]
    },
    {
      "cell_type": "code",
      "source": [
        "#q24\n",
        "nota1 =float(input(\"1.1\"))\n",
        "nota2 =float(input(\"1.1\"))\n",
        "nota3 =float(input(\"1.2\"))\n",
        "media_ponderada =(nota1*2+nota2*3+nota3*5)\n",
        "print =(\"A média ponderada do aluno é\",media_ponderada)\n",
        "print"
      ],
      "metadata": {
        "colab": {
          "base_uri": "https://localhost:8080/"
        },
        "id": "MP5Vy6A29N8v",
        "outputId": "147cd060-8a9f-4428-cb80-a0bc8f20089d"
      },
      "execution_count": null,
      "outputs": [
        {
          "name": "stdout",
          "output_type": "stream",
          "text": [
            "1.11\n",
            "1.12\n",
            "1.23\n"
          ]
        },
        {
          "output_type": "execute_result",
          "data": {
            "text/plain": [
              "('A média ponderada do aluno é', 23.0)"
            ]
          },
          "metadata": {},
          "execution_count": 9
        }
      ]
    },
    {
      "cell_type": "code",
      "source": [
        "#q25\n",
        "a = int(input(\"valor de A é\"))\n",
        "b = int(input(\"valor de B é\"))\n",
        "c = int(input(\"valor de C é\"))\n",
        "d = int(input(\"valor de D é\"))\n",
        "diferenca =(a*b-c*b)\n",
        "print =(\"a diferenca é:\",diferenca)\n",
        "print"
      ],
      "metadata": {
        "colab": {
          "base_uri": "https://localhost:8080/"
        },
        "id": "h75y7dpzQSWf",
        "outputId": "04775f11-4963-4ff1-d17b-e55bc5658ea3"
      },
      "execution_count": 49,
      "outputs": [
        {
          "name": "stdout",
          "output_type": "stream",
          "text": [
            "valor de A é2\n",
            "valor de B é3\n",
            "valor de C é5\n",
            "valor de D é7\n"
          ]
        },
        {
          "output_type": "execute_result",
          "data": {
            "text/plain": [
              "('a diferenca é:', -9)"
            ]
          },
          "metadata": {},
          "execution_count": 49
        }
      ]
    },
    {
      "cell_type": "code",
      "source": [
        "#q26 erro\n",
        "matricula = str(input(\"Digite a matrícula do funcionário: \"))\n",
        "horas_trabalhadas = int(input(\"Digite o número de horas trabalhadas: \"))\n",
        "valor_hora = float(input(\"Digite o valor recebido por hora: \"))\n",
        "\n",
        "salario = horas_trabalhadas * valor_hora\n",
        "\n",
        "print(f\"Matrícula: {matricula}\")\n",
        "print(f\"Salário: R$ {salario:.2f}\")"
      ],
      "metadata": {
        "id": "XO96fkBrSy47"
      },
      "execution_count": null,
      "outputs": []
    },
    {
      "cell_type": "code",
      "source": [
        "#q27\n",
        "soma = 2+2+2\n",
        "print\n",
        "produto = -6*soma\n",
        "print\n",
        "produto /=10\n",
        "print =(\"o resultado do produto é:\",produto)\n",
        "print"
      ],
      "metadata": {
        "colab": {
          "base_uri": "https://localhost:8080/"
        },
        "id": "X6OPj3D_V11y",
        "outputId": "924a14dc-231e-4166-9408-2550b8ec6218"
      },
      "execution_count": 37,
      "outputs": [
        {
          "output_type": "execute_result",
          "data": {
            "text/plain": [
              "('o resultado do produto é:', -3.6)"
            ]
          },
          "metadata": {},
          "execution_count": 37
        }
      ]
    },
    {
      "cell_type": "code",
      "source": [
        "#q28.A\n",
        "vendedor = str(input(\"digite seu nome:\"))\n",
        "salario = float(input(\"seu salario fixo:\"))\n",
        "vendas_mes = float(input(\"quntidade de vendas:\"))\n",
        "comissao =vendas_mes * 0.15\n",
        "total = salario + comissao\n",
        "print(f\"total = ${total:.2f}\")"
      ],
      "metadata": {
        "id": "Nq-XYbzJUHuJ",
        "colab": {
          "base_uri": "https://localhost:8080/"
        },
        "outputId": "e26bd652-951c-468e-a6e9-c6ee711bf22f"
      },
      "execution_count": 30,
      "outputs": [
        {
          "output_type": "stream",
          "name": "stdout",
          "text": [
            "digite seu nome:JOAO\n",
            "seu salario fixo:500\n",
            "quntidade de vendas:1230.30\n",
            "total = $684.54\n"
          ]
        }
      ]
    },
    {
      "cell_type": "code",
      "source": [
        "#28.B\n",
        "vendedor = str(input(\"digite seu nome:\"))\n",
        "salario = float(input(\"seu salario fixo:\"))\n",
        "vendas_mes = float(input(\"quntidade de vendas:\"))\n",
        "comissao =vendas_mes * 0.15\n",
        "total = salario + comissao\n",
        "print(f\"total = ${total:.2f}\")"
      ],
      "metadata": {
        "colab": {
          "base_uri": "https://localhost:8080/"
        },
        "id": "qi5Y5PueAEoK",
        "outputId": "18d5db9a-84a7-439b-b7a8-842e8c49437f"
      },
      "execution_count": 27,
      "outputs": [
        {
          "output_type": "stream",
          "name": "stdout",
          "text": [
            "digite seu nome:PEDRO\n",
            "seu salario fixo:700\n",
            "quntidade de vendas:0\n",
            "total = $700.00\n"
          ]
        }
      ]
    },
    {
      "cell_type": "code",
      "source": [
        "#q29\n",
        "PI = 3.14159\n",
        "raio = float(input(\"Digite o valor do raio: \"))\n",
        "volume = (4 / 3) * PI * raio ** 3\n",
        "print(f\"O volume da esfera é de {volume:.2f} cm³\")"
      ],
      "metadata": {
        "colab": {
          "base_uri": "https://localhost:8080/"
        },
        "id": "JBGqBI3Z8nKN",
        "outputId": "153db962-f4d9-47f8-9f95-94a5e0058e0c"
      },
      "execution_count": 15,
      "outputs": [
        {
          "output_type": "stream",
          "name": "stdout",
          "text": [
            "Digite o valor do raio: 2.0\n",
            "O volume da esfera é de 33.51 cm³\n"
          ]
        }
      ]
    },
    {
      "cell_type": "code",
      "source": [
        "#q30 IA\n",
        "a = float(input(\"Digite o valor de a: \"))\n",
        "b = float(input(\"Digite o valor de b: \"))\n",
        "c = float(input(\"Digite o valor de c: \"))\n",
        "area_triangulo = (a * c) / 2\n",
        "area_trapezio = (a + b) * c / 2\n",
        "area_quadrado = b ** 2\n",
        "area_retangulo = a * b\n",
        "print(f\"Área do triângulo: {area_triangulo:.2f}\")\n",
        "print(f\"Área do trapézio: {area_trapezio:.2f}\")\n",
        "print(f\"Área do quadrado: {area_quadrado:.2f}\")\n",
        "print(f\"Área do retângulo: {area_retangulo:.2f}\")"
      ],
      "metadata": {
        "colab": {
          "base_uri": "https://localhost:8080/"
        },
        "id": "tOOvDrB383tt",
        "outputId": "f58e2ec1-0f17-4fa6-aba1-7b62be7f19ae"
      },
      "execution_count": 18,
      "outputs": [
        {
          "output_type": "stream",
          "name": "stdout",
          "text": [
            "Digite o valor de a: 4\n",
            "Digite o valor de b: 3\n",
            "Digite o valor de c: 5\n",
            "Área do triângulo: 10.00\n",
            "Área do trapézio: 17.50\n",
            "Área do quadrado: 9.00\n",
            "Área do retângulo: 12.00\n"
          ]
        }
      ]
    },
    {
      "cell_type": "code",
      "source": [
        "#q31\n",
        "10 % 3 * 10 ** 2 + 1 - 10 * 4 / 2"
      ],
      "metadata": {
        "colab": {
          "base_uri": "https://localhost:8080/"
        },
        "id": "qMui7oMF-RDT",
        "outputId": "53f93b9b-7f5b-4ffe-dbe4-8510a3f7a30d"
      },
      "execution_count": 19,
      "outputs": [
        {
          "output_type": "execute_result",
          "data": {
            "text/plain": [
              "81.0"
            ]
          },
          "metadata": {},
          "execution_count": 19
        }
      ]
    },
    {
      "cell_type": "code",
      "source": [
        "#q32\n",
        "distancia = float(input(\"Digite a distância total percorrida:\"))\n",
        "combustivel = float(input(\"Digite o total de combustível gasto:\"))\n",
        "consumo_medio = distancia / combustivel\n",
        "\n",
        "print(f\"O consumo médio do automóvel é de {consumo_medio:.2f}km\")"
      ],
      "metadata": {
        "colab": {
          "base_uri": "https://localhost:8080/"
        },
        "id": "HpPtylhd-x8z",
        "outputId": "144be1bf-595e-457c-bee4-984154bdd973"
      },
      "execution_count": 22,
      "outputs": [
        {
          "output_type": "stream",
          "name": "stdout",
          "text": [
            "Digite a distância total percorrida:500\n",
            "Digite o total de combustível gasto:35\n",
            "O consumo médio do automóvel é de 14.29km\n"
          ]
        }
      ]
    },
    {
      "cell_type": "code",
      "source": [
        "#q33.A IA\n",
        "tempo = float(input(\"Digite o tempo gasto na viagem (em horas): \"))\n",
        "velocidade = float(input(\"Digite a velocidade média durante a viagem (em km/h): \"))\n",
        "distancia = tempo * velocidade\n",
        "litros_gastos = distancia / consumo_medio\n",
        "print(f\"A quantidade de litros de combustível gastos na viagem foi de {litros_gastos:.2f} L\")\n",
        "#33.B\n",
        "tempo = float(input(\"Digite o tempo gasto na viagem (em horas): \"))\n",
        "velocidade = float(input(\"Digite a velocidade média durante a viagem (em km/h): \"))\n",
        "distancia = tempo * velocidade\n",
        "litros_gastos = distancia / consumo_medio\n",
        "print(f\"A quantidade de litros de combustível gastos na viagem foi de {litros_gastos:.2f} L\")"
      ],
      "metadata": {
        "colab": {
          "base_uri": "https://localhost:8080/"
        },
        "id": "f62cIxZt_p69",
        "outputId": "a866ab0d-5f36-43b8-f964-b56e08b19c42"
      },
      "execution_count": 24,
      "outputs": [
        {
          "output_type": "stream",
          "name": "stdout",
          "text": [
            "Digite o tempo gasto na viagem (em horas): 10\n",
            "Digite a velocidade média durante a viagem (em km/h): 85\n",
            "A quantidade de litros de combustível gastos na viagem foi de 59.50 L\n"
          ]
        }
      ]
    },
    {
      "cell_type": "code",
      "source": [
        "#q34\n",
        "dias = int(input(\"Digite a quantidade de dias:\"))\n",
        "horas = int(input(\"Digite a quantidade de horas:\"))\n",
        "minutos = int(input(\"Digite a quantidade de minutos:\"))\n",
        "segundos = int(input(\"Digite a quantidade de segundos:\"))\n",
        "total_segundos = dias * 24 * 60 * 60 + horas * 60 * 60 + minutos * 60 + segundos\n",
        "print(f\"O total em segundos é de {total_segundos}\")"
      ],
      "metadata": {
        "colab": {
          "base_uri": "https://localhost:8080/"
        },
        "id": "l-_Gv02fAU-r",
        "outputId": "d9636e86-3f11-479c-ed78-189ddb0cdf50"
      },
      "execution_count": 33,
      "outputs": [
        {
          "output_type": "stream",
          "name": "stdout",
          "text": [
            "Digite a quantidade de dias:7\n",
            "Digite a quantidade de horas:24\n",
            "Digite a quantidade de minutos:60\n",
            "Digite a quantidade de segundos:60\n",
            "O total em segundos é de 694860\n"
          ]
        }
      ]
    },
    {
      "cell_type": "code",
      "source": [
        "#q35 IA\n",
        "lado = float(input(\"Digite o valor do lado do quadrado: \"))\n",
        "perimetro = 4 * lado\n",
        "area = lado ** 2\n",
        "diagonal = lado * math.sqrt(2)\n",
        "print(f\"O perímetro do quadrado é de {perimetro:.2f} cm\")\n",
        "print(f\"A área do quadrado é de {area:.2f} cm²\")\n",
        "print(f\"A diagonal do quadrado é de {diagonal:.2f} cm\")"
      ],
      "metadata": {
        "id": "UnDTWgfgBw5C"
      },
      "execution_count": null,
      "outputs": []
    },
    {
      "cell_type": "code",
      "source": [
        "#36 IA.erro\n",
        "notas = [100, 50, 20, 10, 5, 2, 1]\n",
        "\n",
        "valor = int(input(\"Digite um valor inteiro: \"))\n",
        "\n",
        "notas_necessarias = []\n",
        "\n",
        "for nota in notas:\n",
        "    while valor >= nota:\n",
        "        notas_necessarias.append(nota)\n",
        "        valor -= nota\n",
        "\n",
        "print(f\"O valor lido é {valor}\")\n",
        "print(f\"A relação de notas necessárias é {notas_necessarias}\")"
      ],
      "metadata": {
        "id": "CVC_DE5BFqeG"
      },
      "execution_count": null,
      "outputs": []
    },
    {
      "cell_type": "code",
      "source": [
        "#q37 IA. ERRO\n",
        "tempo_em_segundos = int(input(\"Digite o tempo de duração do evento em segundos:\"))\n",
        "horas = tempo_em_segundos // 3600\n",
        "minutos = (tempo_em_segundos % 3600) // 60\n",
        "segundos = tempo_em_segundos % 60\n",
        "print(f\"O tempo de duração do evento é de\" {horas:02}:{minutos:02}:{segundos:02})"
      ],
      "metadata": {
        "colab": {
          "base_uri": "https://localhost:8080/",
          "height": 140
        },
        "id": "fIqlzKKwGX-l",
        "outputId": "c2563b59-eea1-4e66-dcfb-118a70cbbee1"
      },
      "execution_count": 57,
      "outputs": [
        {
          "output_type": "error",
          "ename": "SyntaxError",
          "evalue": "ignored",
          "traceback": [
            "\u001b[0;36m  File \u001b[0;32m\"<ipython-input-57-9cd9c4aaac1e>\"\u001b[0;36m, line \u001b[0;32m7\u001b[0m\n\u001b[0;31m    print(f\"O tempo de duração do evento é de\" {horas:02}:{minutos:02}:{segundos:02})\u001b[0m\n\u001b[0m                                                         ^\u001b[0m\n\u001b[0;31mSyntaxError\u001b[0m\u001b[0;31m:\u001b[0m leading zeros in decimal integer literals are not permitted; use an 0o prefix for octal integers\n"
          ]
        }
      ]
    },
    {
      "cell_type": "code",
      "source": [
        "#q39 ERRO\n",
        "idade_dias = int(input(\"Digite a idade em dias: \"))\n",
        "\n",
        "anos = idade_dias // 365\n",
        "meses = (idade_dias % 365) // 30\n",
        "dias = idade_dias % 30\n",
        "\n",
        "print(f\"A idade da pessoa é de {anos} anos, {meses} meses e {dias} dias.\")"
      ],
      "metadata": {
        "id": "mvXr1v0VITbd"
      },
      "execution_count": null,
      "outputs": []
    },
    {
      "cell_type": "code",
      "source": [
        "#Q39 IA. erro\n",
        "notas = [100, 50, 20, 10, 5, 2]\n",
        "moedas = [1, 0.50, 0.25, 0.10, 0.05, 0.01]\n",
        "\n",
        "valor = float(input(\"Digite um valor de ponto flutuante com duas casas decimais: \"))\n",
        "\n",
        "notas_necessarias = []\n",
        "moedas_necessarias = []\n",
        "\n",
        "for nota in notas:\n",
        "    while valor >= nota:\n",
        "        notas_necessarias.append(nota)\n",
        "        valor -= nota\n",
        "\n",
        "valor_fracao = valor - int(valor)\n",
        "\n",
        "for moeda in moedas:\n",
        "    while valor_fracao >= moeda:\n",
        "        moedas_necessarias.append(moeda)\n",
        "        valor_fracao -= moeda\n",
        "\n",
        "print(f\"O valor lido é {valor}\")\n",
        "print(f\"As notas necessárias são {notas_necessarias}\")\n",
        "print(f\"As moedas necessárias são {moedas_necessarias}\")"
      ],
      "metadata": {
        "id": "xmmKLth-G4C0"
      },
      "execution_count": null,
      "outputs": []
    },
    {
      "cell_type": "code",
      "source": [
        "#q40.A IA\n",
        "expressao_1 = 3 < 2 ** 3 and 3 == 3\n",
        "#39.B\n",
        "expressao_2 = 0 != 4 or (3/3 == 1 and (5 + 1) / 3 == 2)"
      ],
      "metadata": {
        "id": "Zz4eJEuUHclV"
      },
      "execution_count": 62,
      "outputs": []
    },
    {
      "cell_type": "code",
      "source": [
        "#q41. ERRO\n",
        "salario = float(input(\"Digite o salário: \"))\n",
        "paga_imposto = salario > 1200\n",
        "print(\"Paga imposto?\", paga_imposto)"
      ],
      "metadata": {
        "id": "SPbYIvpnH70X"
      },
      "execution_count": null,
      "outputs": []
    },
    {
      "cell_type": "code",
      "source": [
        "#q42.IA. ERRO\n",
        "def calcular_expressao(a, b, c, d):\n",
        "return a > b and c or not d\n",
        "a = 1\n",
        "b = 2\n",
        "c = True\n",
        "d = True\n",
        "resultado = calcular_expressao(a, b, c, d)\n",
        "print(f\"O resultado da expressão é {resultado}\")"
      ],
      "metadata": {
        "id": "hZuwHGtcJvh-"
      },
      "execution_count": null,
      "outputs": []
    },
    {
      "cell_type": "code",
      "source": [
        "#q43. IA. ERRO\n",
        "materia1 = float(input(\"Digite a nota da primeira matéria: \"))\n",
        "materia2 = float(input(\"Digite a nota da segunda matéria: \"))\n",
        "materia3 = float(input(\"Digite a nota da terceira matéria: \"))\n",
        "\n",
        "media = (materia1 + materia2 + materia3) / 3\n",
        "\n",
        "faltas = int(input(\"Digite o número de faltas do aluno: \"))\n",
        "frequencia = 1 - faltas / 30\n",
        "\n",
        "aluno_aprovado = media > 7 and frequencia >= 0.75\n",
        "\n",
        "print(\"Aluno aprovado?\", aluno_aprovado)"
      ],
      "metadata": {
        "id": "3XWJrYSHKDRa"
      },
      "execution_count": null,
      "outputs": []
    }
  ]
}